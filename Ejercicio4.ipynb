{
  "nbformat": 4,
  "nbformat_minor": 0,
  "metadata": {
    "colab": {
      "name": "Untitled16.ipynb",
      "provenance": [],
      "authorship_tag": "ABX9TyPB+eByeApxs7OYhWuv8pRb",
      "include_colab_link": true
    },
    "kernelspec": {
      "name": "python3",
      "display_name": "Python 3"
    },
    "language_info": {
      "name": "python"
    }
  },
  "cells": [
    {
      "cell_type": "markdown",
      "metadata": {
        "id": "view-in-github",
        "colab_type": "text"
      },
      "source": [
        "<a href=\"https://colab.research.google.com/github/andres-4916/AID-P2-T2-Ejercicios-en-python/blob/main/Ejercicio4.ipynb\" target=\"_parent\"><img src=\"https://colab.research.google.com/assets/colab-badge.svg\" alt=\"Open In Colab\"/></a>"
      ]
    },
    {
      "cell_type": "code",
      "metadata": {
        "colab": {
          "base_uri": "https://localhost:8080/"
        },
        "id": "gJ8QFZz8lrrm",
        "outputId": "6ee62508-142b-4b7b-b5f7-4893932b8465"
      },
      "source": [
        "def descuento(price, discount):\n",
        "    return price - price * discount / 100\n",
        "    \n",
        "def IVA(price, percentage):\n",
        "    \n",
        "    return price + price * percentage / 100\n",
        "\n",
        "def can_precio(basket, function):\n",
        "   \n",
        "    total = 0\n",
        "    for price, discount in basket.items():\n",
        "        total += function(price, discount)\n",
        "    return total\n",
        "#muestra el precio \n",
        "print('El precio de la compra tras aplicar los descuentos es: ', can_precio({1500:20, 500:10, 100:1}, descuento))\n",
        "print('El precio de la compra tras aplicar el IVA es: ', can_precio({1500:20, 500:10, 100:1}, IVA))"
      ],
      "execution_count": 2,
      "outputs": [
        {
          "output_type": "stream",
          "text": [
            "El precio de la compra tras aplicar los descuentos es:  1749.0\n",
            "El precio de la compra tras aplicar el IVA es:  2451.0\n"
          ],
          "name": "stdout"
        }
      ]
    }
  ]
}