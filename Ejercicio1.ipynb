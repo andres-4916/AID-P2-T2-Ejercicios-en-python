{
  "nbformat": 4,
  "nbformat_minor": 0,
  "metadata": {
    "colab": {
      "name": "Untitled13.ipynb",
      "provenance": [],
      "authorship_tag": "ABX9TyNh3MhOYYbwBsu4CNUiKc6q",
      "include_colab_link": true
    },
    "kernelspec": {
      "name": "python3",
      "display_name": "Python 3"
    },
    "language_info": {
      "name": "python"
    }
  },
  "cells": [
    {
      "cell_type": "markdown",
      "metadata": {
        "id": "view-in-github",
        "colab_type": "text"
      },
      "source": [
        "<a href=\"https://colab.research.google.com/github/andres-4916/AID-P2-T2-Ejercicios-en-python/blob/main/Ejercicio1.ipynb\" target=\"_parent\"><img src=\"https://colab.research.google.com/assets/colab-badge.svg\" alt=\"Open In Colab\"/></a>"
      ]
    },
    {
      "cell_type": "code",
      "metadata": {
        "colab": {
          "base_uri": "https://localhost:8080/"
        },
        "id": "PztfKhE-Tgof",
        "outputId": "c234eba4-64c3-4c42-e3cb-ab72e6646797"
      },
      "source": [
        "#funcion para recicbir la url\n",
        "def cont_palabras(url):\n",
        "   # numero de palabras de la url\n",
        "    from urllib import request\n",
        "    from urllib.error import URLError\n",
        "    try:\n",
        "        link = request.urlopen(url)\n",
        "    except URLError:\n",
        "        return('URL ' + url + ' no existe:(')\n",
        "    else:\n",
        "        content = link.read()\n",
        "        return len(content.split())\n",
        "#muestra la url \n",
        "print(cont_palabras('https://www.googl.com/'))\n"
      ],
      "execution_count": 35,
      "outputs": [
        {
          "output_type": "stream",
          "text": [
            "3667\n",
            "URL https://www.googl.com/ no existe:(\n"
          ],
          "name": "stdout"
        }
      ]
    }
  ]
}