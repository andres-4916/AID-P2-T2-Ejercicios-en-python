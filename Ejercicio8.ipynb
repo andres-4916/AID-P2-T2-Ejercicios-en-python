{
  "nbformat": 4,
  "nbformat_minor": 0,
  "metadata": {
    "colab": {
      "name": "Untitled20.ipynb",
      "provenance": [],
      "authorship_tag": "ABX9TyOhCgreG+dnzhlv4LDqsdur",
      "include_colab_link": true
    },
    "kernelspec": {
      "name": "python3",
      "display_name": "Python 3"
    },
    "language_info": {
      "name": "python"
    }
  },
  "cells": [
    {
      "cell_type": "markdown",
      "metadata": {
        "id": "view-in-github",
        "colab_type": "text"
      },
      "source": [
        "<a href=\"https://colab.research.google.com/github/andres-4916/AID-P2-T2-Ejercicios-en-python/blob/main/Ejercicio8.ipynb\" target=\"_parent\"><img src=\"https://colab.research.google.com/assets/colab-badge.svg\" alt=\"Open In Colab\"/></a>"
      ]
    },
    {
      "cell_type": "code",
      "metadata": {
        "colab": {
          "base_uri": "https://localhost:8080/"
        },
        "id": "eurEMO8Hp09Y",
        "outputId": "a5465d59-09d5-4e91-8922-b432d3d39ef0"
      },
      "source": [
        "base = int(input('Introduce la base imponible de la factura: '))\n",
        "\n",
        "def funcion_iva(base, iva = 16):\n",
        "    base += base * iva / 100  \n",
        "    return base \n",
        "print(funcion_iva(base))"
      ],
      "execution_count": 1,
      "outputs": [
        {
          "output_type": "stream",
          "text": [
            "Introduce la base imponible de la factura: 25\n",
            "29.0\n"
          ],
          "name": "stdout"
        }
      ]
    }
  ]
}