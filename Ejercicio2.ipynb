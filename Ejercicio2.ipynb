{
  "nbformat": 4,
  "nbformat_minor": 0,
  "metadata": {
    "colab": {
      "name": "Untitled14.ipynb",
      "provenance": [],
      "authorship_tag": "ABX9TyN0x2VJEf4AecqRDTx0xyev",
      "include_colab_link": true
    },
    "kernelspec": {
      "name": "python3",
      "display_name": "Python 3"
    },
    "language_info": {
      "name": "python"
    }
  },
  "cells": [
    {
      "cell_type": "markdown",
      "metadata": {
        "id": "view-in-github",
        "colab_type": "text"
      },
      "source": [
        "<a href=\"https://colab.research.google.com/github/andres-4916/AID-P2-T2-Ejercicios-en-python/blob/main/Ejercicio2.ipynb\" target=\"_parent\"><img src=\"https://colab.research.google.com/assets/colab-badge.svg\" alt=\"Open In Colab\"/></a>"
      ]
    },
    {
      "cell_type": "code",
      "metadata": {
        "colab": {
          "base_uri": "https://localhost:8080/"
        },
        "id": "fDZYf4NacAcE",
        "outputId": "4dba4df2-2fd3-460b-b196-197020dc4fbe"
      },
      "source": [
        "#funcion que muestra el pib de los paises\n",
        "def pib_paises(url, country='ES'):\n",
        "    #mmyestra el diccionario del pib \n",
        "    from urllib import request\n",
        "    from urllib.error import URLError\n",
        "    try:\n",
        "        fuen = request.urlopen(url)\n",
        "    except URLError:\n",
        "        return('URL ' + url + ' no existente')\n",
        "    else:\n",
        "       # Leer los datos y guardar cada línea en una lista\n",
        "        datos = fuen.read().decode('utf-8').split('\\n')\n",
        "        # Dividir cada línea por el tabulador\n",
        "        datos = [i.split('\\t') for i in datos] \n",
        "        # Eliminar espacios en blanco\n",
        "        datos = [list(map(str.strip, i)) for i in datos] \n",
        "        for i in datos:\n",
        "          # Obtener el código del país del primer elemento de la lista\n",
        "            i[0] = i[0].split(',')[-1] \n",
        "        datos[0][0] = 'años'\n",
        "        datos = {i[0]:i[1:] for i in datos}\n",
        "        result = {datos['años'][i]:datos[estado][i] for i in range(len(datos['años']))}\n",
        "        return result\n",
        "\n",
        "estado = input('Pon el código de un país: ')\n",
        "print('Producto Interno Bruto per cápita de', estado)\n",
        "print('Año', '\\t', 'PIB')\n",
        "for años, pib in pib_paises('https://ec.europa.eu/eurostat/estat-navtree-portlet-prod/BulkDownloadListing?file=data/sdg_08_10.tsv.gz&unzip=true').items():\n",
        "    print(años, '\\t', pib)"
      ],
      "execution_count": 11,
      "outputs": [
        {
          "output_type": "stream",
          "text": [
            "Introduce el código de un país: IT\n",
            "Producto Interior Bruto per cápita de IT\n",
            "Año \t PIB\n",
            "2000 \t 27430\n",
            "2001 \t 27950\n",
            "2002 \t 27960\n",
            "2003 \t 27850\n",
            "2004 \t 28040\n",
            "2005 \t 28100\n",
            "2006 \t 28490\n",
            "2007 \t 28740\n",
            "2008 \t 28250\n",
            "2009 \t 26600\n",
            "2010 \t 26940\n",
            "2011 \t 27030\n",
            "2012 \t 26160\n",
            "2013 \t 25620\n",
            "2014 \t 25620\n",
            "2015 \t 25860\n",
            "2016 \t 26240\n",
            "2017 \t 26730\n",
            "2018 \t 27040\n",
            "2019 \t 27180 p\n",
            "2020 \t 24890 p\n"
          ],
          "name": "stdout"
        }
      ]
    },
    {
      "cell_type": "code",
      "metadata": {
        "id": "cdrx9kBni1Te"
      },
      "source": [
        ""
      ],
      "execution_count": null,
      "outputs": []
    }
  ]
}