{
  "nbformat": 4,
  "nbformat_minor": 0,
  "metadata": {
    "colab": {
      "name": "Untitled21.ipynb",
      "provenance": [],
      "authorship_tag": "ABX9TyMp8+gZLVyDU/vx1FLS7fHn",
      "include_colab_link": true
    },
    "kernelspec": {
      "name": "python3",
      "display_name": "Python 3"
    },
    "language_info": {
      "name": "python"
    }
  },
  "cells": [
    {
      "cell_type": "markdown",
      "metadata": {
        "id": "view-in-github",
        "colab_type": "text"
      },
      "source": [
        "<a href=\"https://colab.research.google.com/github/andres-4916/AID-P2-T2-Ejercicios-en-python/blob/main/Ejercicio9.ipynb\" target=\"_parent\"><img src=\"https://colab.research.google.com/assets/colab-badge.svg\" alt=\"Open In Colab\"/></a>"
      ]
    },
    {
      "cell_type": "code",
      "metadata": {
        "colab": {
          "base_uri": "https://localhost:8080/"
        },
        "id": "hZguZHXVqTkV",
        "outputId": "74f212e6-7339-49ae-a3ec-59d9e6e73dca"
      },
      "source": [
        "a = ((10, 26, 67),\n",
        "     (93, 82, 61))\n",
        "b = ((90, 45),\n",
        "     (31, 43),\n",
        "     (52, 65))\n",
        "\n",
        "def pro(a, b):\n",
        "    pro = []\n",
        "    for i in range(len(a)):\n",
        "        fila = [] \n",
        "        for j in range(len(b[0])):\n",
        "            suma = 0\n",
        "            for k in range(len(a[0])):\n",
        "                suma += a[i][k] * b[k][j]\n",
        "            fila.append(suma)\n",
        "        pro.append(tuple(fila))\n",
        "    return tuple(pro)\n",
        "\n",
        "print(pro(a, b))"
      ],
      "execution_count": 1,
      "outputs": [
        {
          "output_type": "stream",
          "text": [
            "((5190, 5923), (14084, 11676))\n"
          ],
          "name": "stdout"
        }
      ]
    }
  ]
}