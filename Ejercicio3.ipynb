{
  "nbformat": 4,
  "nbformat_minor": 0,
  "metadata": {
    "colab": {
      "name": "Untitled15.ipynb",
      "provenance": [],
      "authorship_tag": "ABX9TyOZgwoYxot9obgKG7Xcs68k",
      "include_colab_link": true
    },
    "kernelspec": {
      "name": "python3",
      "display_name": "Python 3"
    },
    "language_info": {
      "name": "python"
    }
  },
  "cells": [
    {
      "cell_type": "markdown",
      "metadata": {
        "id": "view-in-github",
        "colab_type": "text"
      },
      "source": [
        "<a href=\"https://colab.research.google.com/github/andres-4916/AID-P2-T2-Ejercicios-en-python/blob/main/Ejercicio3.ipynb\" target=\"_parent\"><img src=\"https://colab.research.google.com/assets/colab-badge.svg\" alt=\"Open In Colab\"/></a>"
      ]
    },
    {
      "cell_type": "code",
      "metadata": {
        "colab": {
          "base_uri": "https://localhost:8080/"
        },
        "id": "WTDM5P8PjGq6",
        "outputId": "ceba6149-8f55-4737-9e9a-b8622ddfa0b7"
      },
      "source": [
        "def directorio(file):\n",
        "  \n",
        "    import os\n",
        "    if os.path.isfile(file):\n",
        "        answer = input('El fichero ' + file + ' ya existe. ¿Desea vaciarlo (S/N)? ')\n",
        "        if answer == 'N': \n",
        "            return 'No se ha creado el fichero porque ya existe.\\n'\n",
        "    f = open(file, 'w')\n",
        "    f.close()\n",
        "    return 'Se ha creado el fichero.\\n'\n",
        "     \n",
        "\n",
        "def menu():\n",
        "  \n",
        "    print('Gesión del listín telefónico')\n",
        "    print('============================')\n",
        "    print('1 - Consultar un teléfono')\n",
        "    print('2 - Añadir un teléfono')\n",
        "    print('3 - Eliminar un teléfono')\n",
        "    print('4 - Crear el listín')\n",
        "    print('0 - Terminar')\n",
        "    option = input('Introduzca el número de la opción deseada: ')\n",
        "    return option\n",
        "\n",
        "\n",
        "def directory():\n",
        "   \n",
        "    file = 'listin.txt' \n",
        "    while True:\n",
        "        option = menu()\n",
        "        if option == '1':\n",
        "            name = input('Introduce el nombre del cliente: ')\n",
        "            print(get_phone(file, name))\n",
        "        elif option == '2':\n",
        "            name = input('Introduce el nombre del cliente: ')\n",
        "            telf = input('Introduce el teléfono del cliente: ')\n",
        "            print(add_phone(file, name, telf))\n",
        "        elif option == '3':\n",
        "            name = input('Introduce el nombre del cliente: ')\n",
        "            print(remove_phone(file, name))\n",
        "        elif option == '4':\n",
        "            print(directorio(file))\n",
        "        else:\n",
        "            break\n",
        "    return\n",
        "\n",
        "directory()"
      ],
      "execution_count": null,
      "outputs": [
        {
          "output_type": "stream",
          "text": [
            "Gesión del listín telefónico\n",
            "============================\n",
            "1 - Consultar un teléfono\n",
            "2 - Añadir un teléfono\n",
            "3 - Eliminar un teléfono\n",
            "4 - Crear el listín\n",
            "0 - Terminar\n",
            "Introduzca el número de la opción deseada: 2\n",
            "Introduce el nombre del cliente: andres\n"
          ],
          "name": "stdout"
        }
      ]
    }
  ]
}