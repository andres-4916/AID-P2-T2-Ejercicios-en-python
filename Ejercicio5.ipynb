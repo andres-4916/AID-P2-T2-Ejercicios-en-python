{
  "nbformat": 4,
  "nbformat_minor": 0,
  "metadata": {
    "colab": {
      "name": "Untitled17.ipynb",
      "provenance": [],
      "authorship_tag": "ABX9TyMLC+eNhbsn8ddr+GyAIDPm",
      "include_colab_link": true
    },
    "kernelspec": {
      "name": "python3",
      "display_name": "Python 3"
    },
    "language_info": {
      "name": "python"
    }
  },
  "cells": [
    {
      "cell_type": "markdown",
      "metadata": {
        "id": "view-in-github",
        "colab_type": "text"
      },
      "source": [
        "<a href=\"https://colab.research.google.com/github/andres-4916/AID-P2-T2-Ejercicios-en-python/blob/main/Ejercicio5.ipynb\" target=\"_parent\"><img src=\"https://colab.research.google.com/assets/colab-badge.svg\" alt=\"Open In Colab\"/></a>"
      ]
    },
    {
      "cell_type": "code",
      "metadata": {
        "colab": {
          "base_uri": "https://localhost:8080/"
        },
        "id": "qx1tQPkMnMO6",
        "outputId": "953841e8-3818-4822-d159-2fec8875e18c"
      },
      "source": [
        "from math import sin, cos, tan, exp, log\n",
        "\n",
        "def Funcion(f, n):\n",
        "    \n",
        "    functiones = {'sin':sin, 'cos':cos, 'tan':tan, 'exp':exp, 'log':log}\n",
        "    result = {}\n",
        "    for i in range(1, n+1):\n",
        "        result[i] = functiones[f](i)\n",
        "    return result\n",
        "\n",
        "def calculator():\n",
        "   \n",
        "    f = input('Introduce la función a aplicar (sin, cos, tan, exp, log): ')\n",
        "    n = int(input('Introduce un entero positivo: '))\n",
        "    for i, j in Funcion(f, n).items():\n",
        "        print (i, '\\t', j)\n",
        "    return\n",
        "\n",
        "calculator()"
      ],
      "execution_count": 2,
      "outputs": [
        {
          "output_type": "stream",
          "text": [
            "Introduce la función a aplicar (sin, cos, tan, exp, log): log\n",
            "Introduce un entero positivo: 5\n",
            "1 \t 0.0\n",
            "2 \t 0.6931471805599453\n",
            "3 \t 1.0986122886681098\n",
            "4 \t 1.3862943611198906\n",
            "5 \t 1.6094379124341003\n"
          ],
          "name": "stdout"
        }
      ]
    }
  ]
}