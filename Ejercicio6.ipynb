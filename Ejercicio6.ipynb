{
  "nbformat": 4,
  "nbformat_minor": 0,
  "metadata": {
    "colab": {
      "name": "Untitled18.ipynb",
      "provenance": [],
      "authorship_tag": "ABX9TyMEdcxoRvOn5/eOgyvA7E77",
      "include_colab_link": true
    },
    "kernelspec": {
      "name": "python3",
      "display_name": "Python 3"
    },
    "language_info": {
      "name": "python"
    }
  },
  "cells": [
    {
      "cell_type": "markdown",
      "metadata": {
        "id": "view-in-github",
        "colab_type": "text"
      },
      "source": [
        "<a href=\"https://colab.research.google.com/github/andres-4916/AID-P2-T2-Ejercicios-en-python/blob/main/Ejercicio6.ipynb\" target=\"_parent\"><img src=\"https://colab.research.google.com/assets/colab-badge.svg\" alt=\"Open In Colab\"/></a>"
      ]
    },
    {
      "cell_type": "code",
      "metadata": {
        "colab": {
          "base_uri": "https://localhost:8080/"
        },
        "id": "UBqPru6moIzc",
        "outputId": "0cc79a8c-1019-4f03-db31-6d7218ab21d6"
      },
      "source": [
        "def funcion(funcion, lista):\n",
        "   \n",
        "    l = []\n",
        "    for i in lista:\n",
        "        l.append(funcion(i))\n",
        "    return l\n",
        "\n",
        "def cuadrado(n):\n",
        "    return n * n\n",
        "\n",
        "print(funcion(cuadrado, [10, 47, 99, 4, 5]))"
      ],
      "execution_count": 2,
      "outputs": [
        {
          "output_type": "stream",
          "text": [
            "[100, 2209, 9801, 16, 25]\n"
          ],
          "name": "stdout"
        }
      ]
    }
  ]
}